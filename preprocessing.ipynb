{
 "cells": [
  {
   "cell_type": "markdown",
   "id": "6f77fb46",
   "metadata": {},
   "source": [
    "## Importation de librairies"
   ]
  },
  {
   "cell_type": "code",
   "execution_count": 1,
   "id": "892d2978",
   "metadata": {},
   "outputs": [],
   "source": [
    "# Importation des librairies\n",
    "import pandas as pd\n",
    "import numpy as np\n",
    "import matplotlib.pyplot as plt\n",
    "import seaborn as sns\n",
    "from dateutil import parser"
   ]
  },
  {
   "cell_type": "markdown",
   "id": "312b177e",
   "metadata": {},
   "source": [
    "## Importation du jeu de données"
   ]
  },
  {
   "cell_type": "code",
   "execution_count": 12,
   "id": "556a1eea",
   "metadata": {},
   "outputs": [
    {
     "name": "stdout",
     "output_type": "stream",
     "text": [
      "Jeu de données importé ✅✅\n"
     ]
    }
   ],
   "source": [
    "client = pd.read_csv(r\"../data/clients.csv\")\n",
    "print(\"Jeu de données importé ✅✅\")"
   ]
  },
  {
   "cell_type": "markdown",
   "id": "0213a875",
   "metadata": {},
   "source": [
    "## Suppression des colonnes sensibles"
   ]
  },
  {
   "cell_type": "code",
   "execution_count": 3,
   "id": "fe0c6908",
   "metadata": {},
   "outputs": [
    {
     "name": "stdout",
     "output_type": "stream",
     "text": [
      "Colonnes Sensibles Supprimées ✅✅\n"
     ]
    }
   ],
   "source": [
    "colonnes_a_supprimer = ['id_client', 'nom', 'email', 'téléphone','id_magasin']\n",
    "\n",
    "client = client.drop(columns=colonnes_a_supprimer)\n",
    "NewDataClient = client.copy()\n",
    "print(\"Colonnes Sensibles Supprimées ✅✅\")"
   ]
  },
  {
   "cell_type": "markdown",
   "id": "74c5f7cf",
   "metadata": {},
   "source": [
    "## Colonnes de dates converties en format exact"
   ]
  },
  {
   "cell_type": "code",
   "execution_count": 4,
   "id": "a2228f2d",
   "metadata": {},
   "outputs": [
    {
     "name": "stdout",
     "output_type": "stream",
     "text": [
      "Colonnes de dates uniformisées ✅✅\n"
     ]
    }
   ],
   "source": [
    "def convertir_en_date_uniforme(df, colonnes):\n",
    "    def parse_date_robuste(x):\n",
    "        try:\n",
    "            return parser.parse(x, dayfirst=True)\n",
    "        except:\n",
    "            return pd.NaT\n",
    "    \n",
    "    for col in colonnes:\n",
    "        df[col] = df[col].astype(str).apply(parse_date_robuste)\n",
    "        df[col] = df[col].dt.strftime(\"%Y-%m-%d\")\n",
    "    return df\n",
    "\n",
    "colonnes_de_date = [\"date_inscription\",\"date_dernier_achat\"]\n",
    "NewDataClient = convertir_en_date_uniforme(NewDataClient,colonnes_de_date)\n",
    "print(\"Colonnes de dates uniformisées ✅✅\")"
   ]
  },
  {
   "cell_type": "markdown",
   "id": "f3ed05c9",
   "metadata": {},
   "source": [
    "## Conversion en format date"
   ]
  },
  {
   "cell_type": "code",
   "execution_count": 5,
   "id": "f0d5f992",
   "metadata": {},
   "outputs": [
    {
     "name": "stdout",
     "output_type": "stream",
     "text": [
      "Colonnes de date transfromée en format de date ✅✅\n"
     ]
    }
   ],
   "source": [
    "for col in colonnes_de_date: \n",
    "    NewDataClient[col] =pd.to_datetime(NewDataClient[col], errors=\"coerce\")\n",
    "\n",
    "print(\"Colonnes de date transfromée en format de date ✅✅\")"
   ]
  },
  {
   "cell_type": "markdown",
   "id": "581b3c3b",
   "metadata": {},
   "source": [
    "## Features Engineering\n",
    "\n",
    "### **Ancienneté du client** : Nombre de jours depuis l'inscription"
   ]
  },
  {
   "cell_type": "code",
   "execution_count": 6,
   "id": "026f166d",
   "metadata": {},
   "outputs": [],
   "source": [
    "from datetime import datetime\n",
    "today = datetime.today()\n",
    "NewDataClient[\"anciennete_jours\"] = (today - NewDataClient[\"date_inscription\"]).dt.days"
   ]
  },
  {
   "cell_type": "markdown",
   "id": "31006cab",
   "metadata": {},
   "source": [
    "### **Récence** : Nombre de jours depuis le dernier achat"
   ]
  },
  {
   "cell_type": "code",
   "execution_count": 7,
   "id": "c01d90b1",
   "metadata": {},
   "outputs": [],
   "source": [
    "NewDataClient[\"recence_jours\"] = (today - NewDataClient[\"date_dernier_achat\"]).dt.days"
   ]
  },
  {
   "cell_type": "markdown",
   "id": "4a9b8957",
   "metadata": {},
   "source": [
    "### **Fréquence des achats** : Intervalle moyen entre inscription et dernier achat"
   ]
  },
  {
   "cell_type": "code",
   "execution_count": 8,
   "id": "d305a9d8",
   "metadata": {},
   "outputs": [],
   "source": [
    "NewDataClient[\"duree_entre_achat\"] =(NewDataClient[\"date_dernier_achat\"] - NewDataClient[\"date_inscription\"]).dt.days"
   ]
  },
  {
   "cell_type": "markdown",
   "id": "78995859",
   "metadata": {},
   "source": [
    "### **Statut du Client** : Définir actif/inactif selon un seuil de récence (par ex. inactif si recence_jours > 180 jours)"
   ]
  },
  {
   "cell_type": "code",
   "execution_count": 9,
   "id": "893b701f",
   "metadata": {},
   "outputs": [],
   "source": [
    "NewDataClient[\"statut_client\"] = NewDataClient[\"recence_jours\"].apply(lambda x: \"Actif\"if x <= 180 else \"Inactif\")"
   ]
  },
  {
   "cell_type": "markdown",
   "id": "dd1e3b42",
   "metadata": {},
   "source": [
    "## Exportation de la base de données"
   ]
  },
  {
   "cell_type": "code",
   "execution_count": 10,
   "id": "3d6aa4b0",
   "metadata": {},
   "outputs": [
    {
     "name": "stdout",
     "output_type": "stream",
     "text": [
      "NewDataClient exporté ✅✅\n"
     ]
    }
   ],
   "source": [
    "# Exportation de la nouvelle données\n",
    "NewDataClient.to_csv(r\"../data/NewDataClient.csv\", index=False)\n",
    "print(\"NewDataClient exporté ✅✅\")"
   ]
  }
 ],
 "metadata": {
  "kernelspec": {
   "display_name": "Python 3",
   "language": "python",
   "name": "python3"
  },
  "language_info": {
   "codemirror_mode": {
    "name": "ipython",
    "version": 3
   },
   "file_extension": ".py",
   "mimetype": "text/x-python",
   "name": "python",
   "nbconvert_exporter": "python",
   "pygments_lexer": "ipython3",
   "version": "3.12.5"
  }
 },
 "nbformat": 4,
 "nbformat_minor": 5
}
